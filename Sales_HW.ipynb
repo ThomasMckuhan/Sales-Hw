{
  "nbformat": 4,
  "nbformat_minor": 0,
  "metadata": {
    "colab": {
      "name": "Sales HW",
      "provenance": [],
      "collapsed_sections": []
    },
    "kernelspec": {
      "name": "python3",
      "display_name": "Python 3"
    },
    "language_info": {
      "name": "python"
    }
  },
  "cells": [
    {
      "cell_type": "markdown",
      "metadata": {
        "id": "xh-1edIqfI5z"
      },
      "source": [
        ""
      ]
    },
    {
      "cell_type": "code",
      "metadata": {
        "id": "MGu85uqffKxq",
        "colab": {
          "base_uri": "https://localhost:8080/"
        },
        "outputId": "f05492bd-3797-4ec2-bb2e-ab8daa333948"
      },
      "source": [
        "package = 99\n",
        "quantity = int(input(\"How many would you like to purchase?\"))\n",
        "discount = 0\n",
        "if quantity >=10 and quantity <= 19:\n",
        "  discount = .1\n",
        "elif quanitity >=20 and quantity <= 49:\n",
        "  discount = .2 \n",
        "elif quantitiy >=50 and quantity <100: \n",
        "  discount = .3\n",
        "elif quantity >= 100:\n",
        "  discount = .4\n",
        "\n",
        "total_amount = package*quantity*(1-discount)\n",
        "\n",
        "print(\"The discount saved is \", discount*100, \"%.\")\n",
        "print(\"The total amount of the current cost is $\" , total_amount)"
      ],
      "execution_count": 4,
      "outputs": [
        {
          "output_type": "stream",
          "name": "stdout",
          "text": [
            "How many would you like to purchase?15\n",
            "The discount saved is  10.0 %.\n",
            "The total amount of the current cost is $ 1336.5\n"
          ]
        }
      ]
    },
    {
      "cell_type": "code",
      "metadata": {
        "id": "tWZ2LGMEbreX",
        "colab": {
          "base_uri": "https://localhost:8080/"
        },
        "outputId": "93661fc4-8e42-48ab-e476-847180991d98"
      },
      "source": [
        "weight = int(input(\"How much weight is the package\",))\n",
        "if weight >=0 and weight <= 2: \n",
        "  rate = 1.50\n",
        "elif weight >=2 and weight <=6:\n",
        "  rate = 3.00\n",
        "elif weight >=6 and weight <=10:\n",
        "  rate = 4.00\n",
        "elif weight >=10:\n",
        "  rate = 4.75\n",
        "\n",
        "total_amount = rate\n",
        "\n",
        "print (\"The shipping charges for weight of package is $\" , total_amount)"
      ],
      "execution_count": 8,
      "outputs": [
        {
          "output_type": "stream",
          "name": "stdout",
          "text": [
            "How much weight is the package3\n",
            "The shipping charges for weight of package is $ 3.0\n"
          ]
        }
      ]
    }
  ]
}